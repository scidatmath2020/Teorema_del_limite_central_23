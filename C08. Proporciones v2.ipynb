{
 "cells": [
  {
   "cell_type": "markdown",
   "id": "a10b6b0c",
   "metadata": {},
   "source": [
    "![imagenes](logo.png)"
   ]
  },
  {
   "cell_type": "markdown",
   "id": "cbf1a60c",
   "metadata": {},
   "source": [
    "# Proporciones\n",
    "\n",
    "Otra de las consecuencias del TLC es la estimación de proporciones.\n",
    "\n",
    "**Teorema.** Sea $X$ una característica presente en la población, tal que el $100p\\%$ de la población la presenta. Tomemos una muestra de $n$ observaciones aleatorias y digamos que en $Y$ elementos de la muestra se presenta la característica. Entonces la distribución de probabilidad de la proporción muestral \n",
    "\n",
    "$$\\frac{Y}{n}$$ \n",
    "\n",
    "es aproximadamente $N(media=p,var=pq/n)$ si $n$ es grande (usualmente $np>5$ y $nq>5$).\n",
    "\n"
   ]
  },
  {
   "cell_type": "markdown",
   "id": "c7035b2e",
   "metadata": {},
   "source": [
    "## Ejercicios.\n",
    "\n",
    "**1.** Reportajes en periódicos nos dicen que el estadounidense promedio tiene sobrepeso. Muchos de nosotros hemos tratado de bajar de peso cuando terminamos la preparatoria o la universidad. Y, en efecto, sólo 19% de adultos dicen que no sufren de\n",
    "problemas de sobrepeso. Suponga que la cifra de 19% es correcta y que se selecciona una muestra aleatoria de 100 adultos.\n",
    "\n",
    "**a.** La distribución de la proporción muestral de adultos que no sufren de excesos de peso, ¿tiene una distribución normal aproximada? Si es así, ¿cuál es su media y desviación estándar?\n",
    "\n",
    "La característica $X$ es \"no tener problemas de sobrepeso\". Tengo $n=100$ y $p=0.19$. Por lo tanto $q=1-0.19=0.81$. Entonces $np=100\\cdot 0.19=19$ y $nq=100\\cdot0.81=81$. Concluyo que la proporción muestral es aproximadamente $N(media=0.19,var=\\frac{0.19\\cdot0.81}{100})$\n",
    "\n",
    "**b.** ¿Cuál es la probabilidad de que la proporción muestral exceda de .25?\n",
    "\n",
    "Nos piden $P(proporcion>0.25)=0.0630$\n",
    "\n",
    "**c.** ¿Cuál es la probabilidad de que la proporción muestral se encuentre dentro del intervalo .25 a .30?\n",
    "\n",
    "Nos piden $P(0.25<proporcion\\,muestral<0.30)=P(proporcion\\,muestral<0.30)-P(proporcion\\,muestral<0.25)$"
   ]
  },
  {
   "cell_type": "code",
   "execution_count": 5,
   "id": "8b682257",
   "metadata": {},
   "outputs": [
    {
     "data": {
      "text/plain": [
       "0.06307792109011334"
      ]
     },
     "execution_count": 5,
     "metadata": {},
     "output_type": "execute_result"
    }
   ],
   "source": [
    "## inciso b\n",
    "\n",
    "import scipy\n",
    "\n",
    "vari = 0.19*0.81/100\n",
    "\n",
    "1-scipy.stats.norm.cdf(0.25,loc=0.19,scale=vari**0.5)"
   ]
  },
  {
   "cell_type": "markdown",
   "id": "5c073d65",
   "metadata": {},
   "source": [
    "**2.** El costo de prescripciones de patente se fija para dar apoyo a investigación y desarrollo de estos medicamentos, que pueden tardar hasta 20 años. Sin embargo, una mayoría de estadounidenses dice que los costos de medicamentos de patente (66%), los costos de hospital (64%) y visitas de médicos (55%) son irracionalmente altos. Suponga que se toma una muestra aleatoria\n",
    "de 1000 adultos. Sea $\\hat{p}$ la proporción de adultos que dicen que los precios de medicinas con receta son irracionalmente altos.\n",
    "\n",
    "**a.** ¿Cuál es la distribución exacta de $\\hat{p}$? ¿Cómo se puede aproximar la distribución de $\\hat{p}$?\n",
    "\n",
    "**b.** ¿Cuál es la probabilidad de que $\\hat{p}$ exceda de .68?\n",
    "\n",
    "**c.** ¿Cuál es la probabilidad de que $\\hat{p}$ no exceda de .68?"
   ]
  }
 ],
 "metadata": {
  "kernelspec": {
   "display_name": "Python 3 (ipykernel)",
   "language": "python",
   "name": "python3"
  },
  "language_info": {
   "codemirror_mode": {
    "name": "ipython",
    "version": 3
   },
   "file_extension": ".py",
   "mimetype": "text/x-python",
   "name": "python",
   "nbconvert_exporter": "python",
   "pygments_lexer": "ipython3",
   "version": "3.11.4"
  }
 },
 "nbformat": 4,
 "nbformat_minor": 5
}
