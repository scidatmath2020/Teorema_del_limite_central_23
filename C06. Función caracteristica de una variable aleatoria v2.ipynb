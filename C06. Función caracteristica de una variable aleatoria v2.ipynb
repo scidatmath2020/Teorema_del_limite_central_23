{
 "cells": [
  {
   "cell_type": "markdown",
   "id": "bee6b09a",
   "metadata": {},
   "source": [
    "![imagenes](logo.png)"
   ]
  },
  {
   "cell_type": "markdown",
   "id": "1dd6ca87",
   "metadata": {},
   "source": [
    "# Función característica de una variable aleatoria\n",
    "\n",
    "Recordemos que, si $X$ es una variable aleatoria con función de densidad $f(x)$, su esperanza se define como $$E[X]=\\int_{-\\infty}^\\infty xf(x)\\,\\mathrm{d}x\\mbox{ en el caso continuo y}$$\n",
    "$$E[X]=\\sum_{-\\infty}^\\infty xf(x)\\mbox{ en el caso discreto}$$\n",
    "\n",
    "Más aún, anteriormente se vio que si $g$ es cualquier función, entonces $$E[g(X)]=\\int_{-\\infty}^\\infty g(x)f(x)\\,\\mathrm{d}x\\mbox{ en el caso continuo y}$$\n",
    "$$E[g(X)]=\\sum_{-\\infty}^\\infty g(x)f(x)\\mbox{ en el caso discreto}$$ \n",
    "\n",
    "Con esto en mente, podemos definir la llamada **función característica de una variable aleatoria** (que en otros ambientes matemáticos es conocida como la *transformada de Fourier*): si $X$ es una variable aleatoria, su función característica, denotada por $\\varphi_X$, es una función con dominio en los reales dada por \n",
    "\n",
    "$$\\varphi_X(s)=E[e^{isX}]\\mbox{ donde }i^2=-1.$$\n",
    "\n",
    "Es decir, $$\\varphi_X(s)=\\int_{-\\infty}^\\infty f(x)e^{isx}\\,\\mathrm{d}x\\mbox{ en el caso continuo y}$$$$\\varphi_X(s)=\\sum_{-\\infty}^\\infty f(x)e^{isx}\\mbox{ en el caso discreto}$$ \n",
    "\n",
    "Observe que, sin importar el tipo de variable aleatoria que sea $X$, siempre se tiene que $\\varphi_X(0)=1$.\n"
   ]
  },
  {
   "cell_type": "markdown",
   "id": "235a492a",
   "metadata": {},
   "source": [
    "**Ejemplo 1.** Supongamos que $X\\sim Bin(n,p)$. Entonces su función característica es \n",
    "\\begin{eqnarray*}\n",
    "\\varphi_X(s)&=&\\sum_{-\\infty}^\\infty f(x)e^{isx}\\\\\n",
    "&=&\\sum_{x=0}^n \\binom{n}{x}p^x(1-p)^{n-x}e^{isx}\\\\\n",
    "&=&\\sum_{x=0}^n \\binom{n}{x}(pe^{is})^x(1-p)^{n-x}\\\\\n",
    "&=&(pe^{is}+1-p)^n\n",
    "\\end{eqnarray*}\n",
    "\n",
    "$$(a+b)^n=\\sum_{k=0}^n\\binom{n}{k}a^kb^{n-k}$$"
   ]
  },
  {
   "cell_type": "markdown",
   "id": "8c4c1ac1",
   "metadata": {},
   "source": [
    "**Ejemplo 2.** Supongamos que $X\\sim Poi(\\lambda)$. Entonces su función característica es \n",
    "\\begin{eqnarray*}\n",
    "\\varphi_X(s)&=&\\sum_{-\\infty}^\\infty f(x)e^{isx}\\\\\n",
    "&=&\\sum_{x=0}^\\infty \\frac{\\lambda ^x e^{-\\lambda}}{x!}e^{isx}\\\\\n",
    "&=&e^{-\\lambda}\\sum_{x=0}^\\infty \\frac{(\\lambda e^{is})^x}{x!}\\\\\n",
    "&=&e^{-\\lambda}e^{\\lambda e^{is}}\\\\\n",
    "&=&e^{\\lambda(e^{is}-1)}\\\\\n",
    "\\end{eqnarray*}\n",
    "\n",
    "$$e^{algo}=\\sum_{k=0}^\\infty\\frac{algo^k}{k!}$$\n"
   ]
  },
  {
   "cell_type": "markdown",
   "id": "81445beb",
   "metadata": {},
   "source": [
    "**Ejemplo 3.** Supongamos que $X\\sim N(\\mu,\\sigma^2)$. Entonces su función característica es\n",
    "\\begin{eqnarray*}\n",
    "\\varphi_X(s)&=&\\int_{-\\infty}^\\infty f(x)e^{isx}\\,\\mathrm{d}x\\\\\n",
    "&=&\\frac{1}{\\sigma\\sqrt{2\\pi}}\\int_{-\\infty}^\\infty e^{-\\frac{1}{2}\\left(\\frac{x-\\mu}{\\sigma}\\right)^2}e^{isx}\\,\\mathrm{d}x\\\\\n",
    "\\end{eqnarray*}\n",
    "\n",
    "Completando cuadrados y haciendo un cambio de variable, se puede demostrar que esto es igual a \n",
    "\n",
    "$$\\varphi_X(s)=\\exp(i\\mu s-\\sigma^2s^2/2)$$\n",
    "\n",
    "$$\\varphi_X(s)=e^{i\\mu s-\\sigma^2s^2/2}$$"
   ]
  },
  {
   "cell_type": "markdown",
   "id": "c2c0cf81",
   "metadata": {},
   "source": [
    "## Muy importante...\n",
    "\n",
    "La función caractarística de las variables aleatorias **siempre** existe. Pero además tiene dos gracias sumamente importantes:\n",
    "\n",
    "**Independencia.** Si $X$ y $Y$ son variables aleatorias independientes, no necesariamente del mismo tipo, entonces la función característica de $X+Y$ es el producto de las funciones características. Es decir, \n",
    "\n",
    "$$\\varphi_{X+Y}(s)=\\varphi_X(s)\\varphi_Y(s)$$\n",
    "\n",
    "En efecto: $$\\varphi_{X+Y}(s)=E[e^{is(X+Y)}]=E[e^{isX}e^{isY}]=E[e^{isX}]E[e^{isY}]=\\varphi_X(s)\\varphi_Y(s)\\,\\,\\,\\mbox{     (nota el uso de la independencia)}$$\n",
    "\n",
    "**Biyectividad.** Observemos que la transformada de Fourier convierte variables aleatorias en funciones matemáticas usuales. Por ejemplo, si $X\\sim Bin(10,0.2)$, entonces $\\varphi_X(s)=(0.2e^{is}+1-0.2)^{10}=(0.2e^{is}+0.8)^{10}$. \n",
    "\n",
    "La propiedad de biyectividad de la función característica se refiere a que si dos variables aleatorias tienen exactamente la misma función característica, entonces las dos variables aleatorias tienen la misma distribución.\n",
    "\n",
    "Por ejemplo, si $Y$ es una variable aleatoria tal que $\\varphi_Y(s)=(0.2e^{is}+0.8)^{10}$, entonces $Y$ es, sí o sí, una binomial con $n=10$ y $p=0.2$.\n",
    "\n",
    "Esta propiedad es esencial en Análisis Matemático y en Probabilidad y Estadística, pues nos permite saber el tipo de variable aleatoria que sigue un fenómeno si conocemos su función característica.\n",
    "\n",
    "**Ejemplo.** Supongamos que tienes dos dados justos y los vas a lanzar. Al primero lo vas a lanzar 10 veces, y al segundo lo vas a lanzar 7 veces. Sea $X$ el número de veces que obtuviste 1 en el primer dado, y sea $Y$ el número de veces que obtuviste el 1 en el segundo dado. ¿Cómo es $X+Y$?\n",
    "\n",
    "Si meditamos por un momento, intuitivamente veremos que $X+Y$ no es otra cosa mas que cuántas veces nos salió el 1 de haber lanzado un único dado 17 veces. Veamos si nuestra intuición es correcta:\n",
    "\n",
    "Pudimos no haber obtenido el 1 en ninguno de los lanzamientos del primer dado y en ninguno de los lanzamientos del segundo dado. Por lo tanto $0\\le X+Y$. O bien, pudimos obtener únicamente 1 en todos los lanzamientos del primer dado y en todos los lanzamientos del segundo dado, por lo cual $X+Y\\le 10+7=17$.\n",
    "\n",
    "Sea $0\\le a\\le 17$. Calculemos la probabilidad de que $X+Y$ sea $a$:\n",
    "\n",
    "\\begin{eqnarray*}\n",
    "P(X+Y=a)&=&P(X=0,Y=a)+P(X=1,Y=a-1)+P(X=2,Y=a-2)+...+P(X=a,Y=0)\\\\\n",
    "&=&P(X=0)P(Y=a)+P(X=1)P(Y=a-1)+P(X=2)P(Y=a-2)+...+P(X=a)P(Y=0)\\\\\n",
    "&=&\\sum_{k=0}^a\\binom{10}{k}\\left(\\frac{1}{6}\\right)^{k}\\left(\\frac{5}{6}\\right)^{10-k}\\binom{7}{a-k}\\left(\\frac{1}{6}\\right)^{a-k}\\left(\\frac{5}{6}\\right)^{7-(a-k)}\\\\\n",
    "&=&\\left(\\frac{1}{6}\\right)^a\\left(\\frac{5}{6}\\right)^{17-a}\\sum_{k=0}^a\\binom{10}{k}\\binom{7}{a-k}\\\\\n",
    "&=&\\left(\\frac{1}{6}\\right)^a\\left(\\frac{5}{6}\\right)^{17-a}\\binom{17}{a}\\\\\n",
    "\\end{eqnarray*}\n",
    "\n",
    "Por lo tanto $X+Y\\sim Bin(17,1/6)$\n",
    "\n",
    "Por otra parte, de haber utilizado las propiedades fundamentales de la función característica:\n",
    "\n",
    "\\begin{eqnarray*}\n",
    "\\varphi_{X+Y}(s)&=&\\varphi_X(s)\\varphi_Y(s)\\\\\n",
    "&=&\\left(\\frac{1}{6}e^{is}+1-\\frac{1}{6}\\right)^{10}\\left(\\frac{1}{6}e^{is}+1-\\frac{1}{6}\\right)^{7}\\\\\n",
    "&=&\\left(\\frac{1}{6}e^{is}+1-\\frac{1}{6}\\right)^{17}\n",
    "\\end{eqnarray*}\n",
    "\n",
    "y por lo tanto $X+Y\\sim Bin(17,1/6)$"
   ]
  },
  {
   "cell_type": "markdown",
   "id": "93d62ede",
   "metadata": {},
   "source": [
    "### Más general...\n",
    "\n",
    "Si $X\\sim Bin(n,p)$ y $Y\\sim Bin(m,p)$ son independientes, entonces $X+Y\\sim Bin(n+m,p)$ \n",
    "\n",
    "Si $X\\sim Poi(\\lambda_1)$ y $Y\\sim Poi(\\lambda_2)$ son independientes, entonces $X+Y\\sim Poi(\\lambda_1+\\lambda_2)$ \n",
    "\n",
    "Si $X\\sim N(\\mu_1,\\sigma_1^2)$ y $Y\\sim N(\\mu_2,\\sigma_2^2)$ son independientes, entonces $X+Y\\sim N(\\mu_1+\\mu_2,\\sigma_1^2+\\sigma_2^2)$ \n",
    "\n",
    "Veamos por qué:\n",
    "\n",
    "\\begin{eqnarray*}\n",
    "\\varphi_{X+Y}(s)&=&\\varphi_X(s)\\varphi_Y(s)\\\\\n",
    "&=&\\exp(i\\mu_1 s-\\sigma_1^2s^2/2)\\exp(i\\mu_2 s-\\sigma_2^2s^2/2)\\\\\n",
    "&=&\\exp(i\\mu_1 s-\\sigma_1^2s^2/2+i\\mu_2 s-\\sigma_2^2s^2/2)\\\\\n",
    "&=&\\exp(i(\\mu_1+\\mu_2) s-(\\sigma_1^2+\\sigma_2^2)s^2/2)\\\\\n",
    "\\end{eqnarray*}"
   ]
  },
  {
   "cell_type": "markdown",
   "id": "48c4ff68",
   "metadata": {},
   "source": [
    "Además, si $a$ es cualquier número, y $X\\sim N(\\mu,\\sigma^2)$, entonces $aX\\sim N(a\\mu,a^2\\sigma^2)$. En efecto:\n",
    "\n",
    "\\begin{eqnarray*}\n",
    "\\varphi_{aX}(s)&=&E[e^{isaX}]\\\\\n",
    "&=&\\varphi_X(as)\\\\\n",
    "&=&\\exp(i\\mu as-\\sigma^2a^2s^2/2)\\\\\n",
    "&=&\\exp(i(\\mu a)s-(\\sigma^2 a^2)s^2/2)\\\\\n",
    "\\end{eqnarray*}\n",
    "\n",
    "Esto es la **propiedad fundamental de la Estadística**: la suma *finita* de normales independientes vuelve a ser normal."
   ]
  },
  {
   "cell_type": "markdown",
   "id": "75c91066",
   "metadata": {},
   "source": [
    "En concreto esto se puede ver de la siguiente manera: sea $X$ una propiedad de tu población (por ejemplo, la estatura o el salario). Supongamos que $X$ sigue una distribución normal con cierta media y cierta varianza. Si tomas una muestra de tamaño $n$ cualquiera, y si sumas o promedias la característica $X$ de esa muestra, el resultado volverá a ser normal."
   ]
  },
  {
   "cell_type": "markdown",
   "id": "0cac467b",
   "metadata": {},
   "source": [
    "## Ejercicios.\n",
    "\n",
    "1. Sea $X$ una variable aleatoria normal con media 2 y varianza 3, y sea $Y$ una variable aleatoria normal con media 1 y varianza 4. Suponga que $X$ y $Y$ son independientes. ¿Cuál es la distribución de la combinación $2X+3Y$? ¿Cuál es la distribución de la combinación $2X-3Y$?\n",
    "\n",
    "$X\\sim N(\\mu=2,var=3)$, $Y\\sim N(\\mu=1,var=4)$\n",
    "\n",
    "Nos preguntan por $2X+3Y$\n",
    "\n",
    "$2X\\sim N(\\mu=2*2,var=2^2*3)=N(\\mu=4,var=12)$\n",
    "\n",
    "$3Y\\sim N(\\mu=3*1,var=3^2*4)=N(\\mu=3,var=36)$\n",
    "\n",
    "$2X+3Y\\sim N(\\mu=4+3,var=12+36)=N(\\mu=7,var=48)$\n",
    "\n",
    "$-3Y\\sim N(\\mu=-3*1,var=(-3)^2*4)=N(\\mu=-3,var=36)$\n",
    "\n",
    "$2X-3Y\\sim N(\\mu=4-3,var=12+36)=N(\\mu=1,var=48)$"
   ]
  },
  {
   "cell_type": "markdown",
   "id": "41388ae3",
   "metadata": {},
   "source": [
    "2. La historia sugiere que las puntuaciones en la sección de Matemáticas del Examen de Rendimiento Estándar (SAT) se distribuyen normalmente con una media de 529 y una varianza de 5732. También sugiere que las puntuaciones en la sección Verbal del SAT se distribuyen normalmente con una media de 474 y una varianza de 6368. Selecciona a dos estudiantes al azar. Sea $X$ la puntuación en Matemáticas del primer estudiante y $Y$ la puntuación verbal del segundo estudiante. ¿Cuál es la probabilidad de que $X$ sea mayor que $Y$?\n",
    "\n",
    "Respuesta. 0.6915"
   ]
  },
  {
   "cell_type": "markdown",
   "id": "80ea563a",
   "metadata": {},
   "source": [
    "3. Supongamos que $X_i$ es el peso de una bolsa de zanahorias de una libra seleccionada al azar. Por supuesto, las bolsas de una libra de zanahorias no pesarán exactamente una libra. De hecho, la evidencia sugiere que $X_i$ se distribuye normalmente con una media de 1.18 libras y una desviación estándar de 0.07 libras.\n",
    "\n",
    "Ahora, sea $W$ el peso de una bolsa de zanahorias de tres libras seleccionada al azar. Las bolsas de tres libras de zanahorias tampoco pesarán exactamente tres libras. De hecho, la historia sugiere que $W$ se distribuye normalmente con una media de 3.22 libras y una desviación estándar de 0.09 libras.\n",
    "\n",
    "Seleccionando bolsas al azar, ¿cuál es la probabilidad de que la suma de tres bolsas de una libra exceda el peso de una bolsa de tres libras?\n",
    "\n",
    "Respuesta. 0.9830\n",
    "\n",
    "Sean $X_1$, $X_2$, $X_3$ los pesos de las tres bolsas de una libra y $W$ el peso de la bolsa de tres libras. Nos preguntan \n",
    "\n",
    "$$P(X_1+X_2+X_3>W)$$\n",
    "\n",
    "Es decir $P(X_1+X_2+X_3-W>0)=1-P(X_1+X_2+X_3-W<0)$\n",
    "\n",
    "Por otra parte, $$X_1+X_2+X_3-W\\sim N(\\mu=1.18,sd=0.07)+N(\\mu=1.18,sd=0.07)+N(\\mu=1.18,sd=0.07)-N(\\mu=3.22,sd=0.09)$$\n",
    "\n",
    "Ahora recordemos que $sd^2=var$  y por lo tanto \n",
    "\n",
    "\\begin{eqnarray*}\n",
    "N(\\mu=1.18+1.18+1.18-3.22,var=0.07^2+0.07^2+0.07^2+0.09^2)&=&N(\\mu=0.32,var=0.0228)\n",
    "\\end{eqnarray*}"
   ]
  },
  {
   "cell_type": "markdown",
   "id": "5becbba3",
   "metadata": {},
   "source": [
    "4. Juan Luis viaja diariamente al trabajo y se preocupa por quedarse sin combustible. La cantidad de combustible que utiliza sigue una distribución normal para cada parte de su trayecto, pero la cantidad de combustible que utiliza al regresar a casa varía más. Las cantidades de combustible que utiliza para cada parte del trayecto también son independientes entre sí. Aquí hay un resumen de la cantidad de combustible que Juan Luis utiliza para cada parte de su viaje:\n",
    "\n",
    "viaje|media|desviación|\n",
    "---|---|---|\n",
    "Para ir a trabajar|10L|1.5L|\n",
    "Para regresar a casa|10L|2L|\n",
    "\n",
    "Supongamos que Juan Luis tiene 25 litros de combustible en su tanque y tiene la intención de conducir al trabajo y luego regresar a casa. ¿Cuál es la probabilidad de que Juan Luis se quede sin combustible?\n",
    "\n",
    "Respuesta. 0.0228"
   ]
  }
 ],
 "metadata": {
  "kernelspec": {
   "display_name": "R",
   "language": "R",
   "name": "ir"
  },
  "language_info": {
   "codemirror_mode": "r",
   "file_extension": ".r",
   "mimetype": "text/x-r-source",
   "name": "R",
   "pygments_lexer": "r",
   "version": "3.6.1"
  }
 },
 "nbformat": 4,
 "nbformat_minor": 5
}
