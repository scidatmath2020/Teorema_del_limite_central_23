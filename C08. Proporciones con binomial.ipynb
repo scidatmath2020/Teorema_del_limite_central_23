{
 "cells": [
  {
   "cell_type": "markdown",
   "id": "77cfd52e",
   "metadata": {},
   "source": [
    "Sea $\\hat{p}$ la proporción muestral. Es decir, si $Y$ es el número de individuos en mi muestra que no tienen exceso de sobrepeso entonces $\\hat{p}=Y/100$"
   ]
  },
  {
   "cell_type": "markdown",
   "id": "c7c586a1",
   "metadata": {},
   "source": [
    "En el inciso (b) me piden \n",
    "\n",
    "$$P(proporcion>0.25)=P(\\hat{p}>0.25)=P(\\frac{Y}{100}>0.25)=P(Y>25)=1-P(Y\\le 25)$$ \n",
    "\n",
    "Pero $Y\\sim Bin(p=0.19,n=100)$"
   ]
  },
  {
   "cell_type": "code",
   "execution_count": 4,
   "id": "8aa37131",
   "metadata": {},
   "outputs": [
    {
     "data": {
      "text/html": [
       "0.0527578948144858"
      ],
      "text/latex": [
       "0.0527578948144858"
      ],
      "text/markdown": [
       "0.0527578948144858"
      ],
      "text/plain": [
       "[1] 0.05275789"
      ]
     },
     "metadata": {},
     "output_type": "display_data"
    }
   ],
   "source": [
    "1-pbinom(25,prob=0.19,size=100)"
   ]
  },
  {
   "cell_type": "markdown",
   "id": "24e50b46",
   "metadata": {},
   "source": [
    " ¿Cuál es la probabilidad de que la proporción muestral se encuentre dentro del intervalo .25 a .30?\n",
    " \n",
    "\\begin{eqnarray*}\n",
    "P(0.25<\\hat{p}<0.30)&=&P(0.25<\\frac{Y}{100}<0.30)\\\\\n",
    "&=&P(25<Y<30)\\\\\n",
    "&=&P(Y=26)+P(Y=27)+P(Y=28)+P(Y=29)\\\\\n",
    "&=&P(Y\\le 29)-P(Y\\le25)\n",
    "\\end{eqnarray*}"
   ]
  },
  {
   "cell_type": "code",
   "execution_count": 5,
   "id": "7786be20",
   "metadata": {},
   "outputs": [
    {
     "data": {
      "text/html": [
       "0.0473577149252484"
      ],
      "text/latex": [
       "0.0473577149252484"
      ],
      "text/markdown": [
       "0.0473577149252484"
      ],
      "text/plain": [
       "[1] 0.04735771"
      ]
     },
     "metadata": {},
     "output_type": "display_data"
    }
   ],
   "source": [
    "pbinom(29,prob=0.19,size=100)-pbinom(25,prob=0.19,size=100)"
   ]
  },
  {
   "cell_type": "code",
   "execution_count": 6,
   "id": "1a98f733",
   "metadata": {},
   "outputs": [
    {
     "data": {
      "text/html": [
       "0.0605540416407205"
      ],
      "text/latex": [
       "0.0605540416407205"
      ],
      "text/markdown": [
       "0.0605540416407205"
      ],
      "text/plain": [
       "[1] 0.06055404"
      ]
     },
     "metadata": {},
     "output_type": "display_data"
    }
   ],
   "source": [
    "vari = 0.19*0.81/100\n",
    "\n",
    "pnorm(0.30,mean=0.19,sd=sqrt(vari))-pnorm(0.25,mean=0.19,sd=sqrt(vari))"
   ]
  }
 ],
 "metadata": {
  "kernelspec": {
   "display_name": "R",
   "language": "R",
   "name": "ir"
  },
  "language_info": {
   "codemirror_mode": "r",
   "file_extension": ".r",
   "mimetype": "text/x-r-source",
   "name": "R",
   "pygments_lexer": "r",
   "version": "3.6.1"
  }
 },
 "nbformat": 4,
 "nbformat_minor": 5
}
