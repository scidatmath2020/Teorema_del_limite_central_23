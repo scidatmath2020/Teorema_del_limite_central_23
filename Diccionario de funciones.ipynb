{
 "cells": [
  {
   "cell_type": "markdown",
   "id": "f0ff4f37",
   "metadata": {},
   "source": [
    "![imagenes](logo.png)"
   ]
  },
  {
   "cell_type": "markdown",
   "id": "c5a91581",
   "metadata": {},
   "source": [
    "A continuación presentamos un diccionario para traducir funciones entre Excel, R y Python.\n",
    "\n",
    "Descripción|Excel|R|Python|\n",
    ":-:|:-:|:-:|:-:|\n",
    "$P(X\\le x), X\\sim N$(media=m,desviacion=s)|distr.norm.n(x,m,s,1)|pnorm(x,mean=m,sd=s)|scipy.stats.norm.cdf(x,loc=m,scale=s)|\n",
    "Generar N observaciones normales independientes|distr.norm.inv(aleatorio(),m,s)|rnorm(N,media=m,sd=s)|np.random.normal(loc=m,scale=sd,size=N)|\n",
    "Tomar una muestra de tamaño k de la secuencia [a,a+1,a+2,...,b]||sample(a:b,k)|random.sample(range(a,b+1),k)|\n",
    "Realizar una acción k veces||replicate(k,acción)|[acción for x in range(k)]|\n",
    "Definir una secuencia desde a hasta b con saltos de tamaño c|| seq(a,b,by=c)|np.arange(a,b+c,c)|\n",
    "Si $X\\sim N$(media=m,desviacion=s), calcular $f(x)$||dnorm(x,mean=m,sd=s)|scipy.stats.norm.pdf(x,loc=m,scale=s)|\n",
    "a|b|c|d|"
   ]
  }
 ],
 "metadata": {
  "kernelspec": {
   "display_name": "Python 3 (ipykernel)",
   "language": "python",
   "name": "python3"
  },
  "language_info": {
   "codemirror_mode": {
    "name": "ipython",
    "version": 3
   },
   "file_extension": ".py",
   "mimetype": "text/x-python",
   "name": "python",
   "nbconvert_exporter": "python",
   "pygments_lexer": "ipython3",
   "version": "3.11.4"
  }
 },
 "nbformat": 4,
 "nbformat_minor": 5
}
