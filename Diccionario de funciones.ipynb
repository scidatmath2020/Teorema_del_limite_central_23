{
 "cells": [
  {
   "cell_type": "markdown",
   "id": "73c59c9d",
   "metadata": {},
   "source": [
    "![imagenes](logo.png)"
   ]
  },
  {
   "cell_type": "markdown",
   "id": "90ffcc8c",
   "metadata": {},
   "source": [
    "A continuación presentamos un diccionario para traducir funciones entre Excel, R y Python.\n",
    "\n",
    "Descripción|Excel|R|Python|\n",
    ":-:|:-:|:-:|:-:|\n",
    "$P(X\\le x), X\\sim N$(media=m,desviacion=s)|distr.norm.n(x,m,s,1)|pnorm(x,mean=m,sd=s)|scipy.stats.norm.cdf(x,loc=m,scale=s)|\n",
    "||||"
   ]
  }
 ],
 "metadata": {
  "kernelspec": {
   "display_name": "Python 3 (ipykernel)",
   "language": "python",
   "name": "python3"
  },
  "language_info": {
   "codemirror_mode": {
    "name": "ipython",
    "version": 3
   },
   "file_extension": ".py",
   "mimetype": "text/x-python",
   "name": "python",
   "nbconvert_exporter": "python",
   "pygments_lexer": "ipython3",
   "version": "3.11.4"
  }
 },
 "nbformat": 4,
 "nbformat_minor": 5
}
