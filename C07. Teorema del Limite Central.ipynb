{
 "cells": [
  {
   "cell_type": "markdown",
   "id": "77be9028",
   "metadata": {},
   "source": [
    "![imagenes](logo.png)"
   ]
  },
  {
   "cell_type": "markdown",
   "id": "6cf297d7",
   "metadata": {},
   "source": [
    "# Teorema del Límite Central\n",
    "\n",
    "El resultado más importante de toda la Estadística, y el motivo de este taller, es el ya mencionado **Teorema del Límite Central**. De alguna manera, se trata de una ley matemática universal que rige a la gran mayoría de los fenómenos observables: naturales, físicos, sociales, econonómicos, humanos, industriales, etc.\n",
    "\n",
    "A grandes razgos, lo que nos dice es que si tomamos una muestra de cualquier población para medir una característica, si el tamaño de la muestra es suficientemente grande, entonces el valor promedio de la característica a medir tiene un comportamiento de variable aleatoria normal.\n",
    "\n",
    "En símbolos:\n",
    "\n",
    "**Teorema del Límite Central.** Sea $X$ una característica de tu población, con media $\\mu$ y varianza $\\sigma^2$. Sean $X_1,X_2,...,X_n$ un muestreo aleatorio simple sin reemplazo dentro de dicha población. Si $n$ *es grande*, entonces la variable aleatoria \n",
    "\n",
    "$$\\frac{\\frac{1}{n}\\sum_{k=1}^n X_k-\\mu}{\\sigma/\\sqrt{n}}$$\n",
    "es aproximadamente una $N(0,1)$\n",
    "\n",
    "Es decir, si $Z_n=\\frac{\\frac{1}{n}\\sum_{k=1}^n X_k-\\mu}{\\sigma/\\sqrt{n}}$, entonces \n",
    "\n",
    "$$P(Z_n\\le a)\\approx\\frac{1}{2\\sqrt{\\pi}}\\int_{-\\infty}^ae^{-\\frac{x^2}{2}}\\,\\mathrm{d}x=F(a)$$ \n",
    "\n",
    "donde $F(a)$ es la función de distribución (o acumulativa) de una normal estándar.\n",
    "\n",
    "**Observación.** Toma en cuenta que no nos interesa el tipo de variable aleatoria que sea la característica $X$. Lo único que se requiere para garantizar el resultado es que $n$ sea grande. O bien, si $X$ es una normal, por lo visto en el capítulo anterior sabemos que $Z_n$ es exactamente una normal. "
   ]
  },
  {
   "cell_type": "markdown",
   "id": "9f3a6fe2",
   "metadata": {},
   "source": [
    "## Demostración (opcional).\n",
    "\n",
    "Notemos que  $$Z_n=\\frac{\\frac{1}{n}\\sum_{k=1}^n X_k-\\mu}{\\sigma/\\sqrt{n}}=\\sum_{k=1}^n\\frac{(X_k-\\mu)}{\\sigma\\sqrt{n}}$$\n",
    "\n",
    "Sea $Y_k=\\frac{(X_k-\\mu)}{\\sqrt{n\\sigma^2}}$. IObservemos que \n",
    "\n",
    "Por lo tanto \n",
    "\\begin{eqnarray*}\n",
    "\\varphi_{Z_n}(s)&=&E[e^{isZ_n}]\\\\\n",
    "&=&E\\left[e^{is\\frac{1}{\\sqrt{n}}\\sum_{k=1}^{n}\\frac{X_k-\\mu}{\\sigma}}\\right]\\\\\n",
    "&=&E\\left[e^{is\\frac{1}{\\sqrt{n}}\\frac{X_1-\\mu}{\\sigma}}e^{is\\frac{1}{\\sqrt{n}}\\frac{X_2-\\mu}{\\sigma}}...e^{is\\frac{1}{\\sqrt{n}}\\frac{X_n-\\mu}{\\sigma}}\\right]\\\\\n",
    "&=&E\\left[e^{is\\frac{1}{\\sqrt{n}}\\frac{X_1-\\mu}{\\sigma}}\\right]\\left[e^{is\\frac{1}{\\sqrt{n}}\\frac{X_2-\\mu}{\\sigma}}\\right]...\\left[e^{is\\frac{1}{\\sqrt{n}}\\frac{X_n-\\mu}{\\sigma}}\\right]\\\\\n",
    "&=&\\varphi_{\\frac{X_1-\\mu}{\\sigma}}\\left(\\frac{s}{\\sqrt{n}}\\right)\\varphi_{\\frac{X_2-\\mu}{\\sigma}}\\left(\\frac{s}{\\sqrt{n}}\\right)...\\varphi_{\\frac{X_n-\\mu}{\\sigma}}\\left(\\frac{s}{\\sqrt{n}}\\right)\\\\\n",
    "&=&\\left[\\varphi_{\\frac{X-\\mu}{\\sigma}}\\left(\\frac{s}{\\sqrt{n}}\\right)\\right]^n\n",
    "\\end{eqnarray*}\n",
    "\n",
    "Ahora, para $t$ cercano a 0, tenemos \n",
    "\\begin{eqnarray*}\n",
    "\\varphi_{\\frac{X-\\mu}{\\sigma}}(t)&=&1+iE\\left[\\frac{X-\\mu}{\\sigma}\\right]t+\\frac{i^2}{2!}E\\left[\\left(\\frac{X-\\mu}{\\sigma}\\right)^2\\right]t^2+\\frac{i^3}{3!}E\\left[\\left(\\frac{X-\\mu}{\\sigma}\\right)^3\\right]t^3+...\\\\\n",
    "&=&1-\\frac{t^2}{2}+o(t^2)\\,\\mbox{ donde }\\,o(t^2)=\\frac{i^3}{3!}E\\left[\\left(\\frac{X-\\mu}{\\sigma}\\right)^3\\right]t^3+\\frac{i^4}{4!}E\\left[\\left(\\frac{X-\\mu}{\\sigma}\\right)^4\\right]t^4...\\\\\n",
    "\\end{eqnarray*}\n",
    "\n",
    "De esta manera, si $n$ es grande, entonces \n",
    "\\begin{eqnarray*}\n",
    "\\varphi_{Z_n}(s)&=&\\left[\\varphi_{\\frac{X-\\mu}{\\sigma}}\\left(\\frac{s}{\\sqrt{n}}\\right)\\right]^n\\\\\n",
    "&=&\\left(1-\\frac{s^2}{2n}+o\\left(\\frac{s^2}{n}\\right)\\right)^n=\\left(1-\\frac{s^2}{2n}\\right)^n+o\\left(\\frac{s^2}{n}\\right)\\\\\n",
    "&\\approx&e^{-s^2/2}\\\\\n",
    "&=&\\varphi_{Z}(s)\\,\\mbox{ donde }Z\\sim N(0,1)\n",
    "\\end{eqnarray*}"
   ]
  },
  {
   "cell_type": "markdown",
   "id": "4f075eed",
   "metadata": {},
   "source": [
    "### Corolario importante 1\n",
    "\n",
    "Sea $X$ una característica de tu población, con media $\\mu$ y varianza $\\sigma^2$. Sean $X_1,X_2,...,X_n$ un muestreo aleatorio simple sin reemplazo dentro de dicha población. Si $n$ *es grande*, entonces la variable aleatoria $$\\frac{1}{n}\\sum_{k=1}^n X_k$$\n",
    "\n",
    "es aproximadamente $N(media=\\mu,var=\\sigma^2/n)$"
   ]
  },
  {
   "cell_type": "markdown",
   "id": "fefa83c4",
   "metadata": {},
   "source": [
    "### Corolario importante 2\n",
    "\n",
    "Sea $X$ una característica de tu población, con media $\\mu$ y varianza $\\sigma^2$. Sean $X_1,X_2,...,X_n$ un muestreo aleatorio simple sin reemplazo dentro de dicha población. Si $n$ *es grande*, entonces la variable aleatoria \n",
    "\n",
    "$$\\sum_{k=1}^n X_k$$\n",
    "\n",
    "es aproximadamente $N(media=n\\mu,var=n\\sigma^2)$"
   ]
  },
  {
   "cell_type": "markdown",
   "id": "63874c75",
   "metadata": {},
   "source": [
    "## Ejercicios\n",
    "\n",
    "**1**. La duración de la enfermedad de Alzheimer desde el principio de síntomas hasta el fallecimiento varía de 3 a 20 años; el promedio es 8 años con una desviación estándar de 4 años. El administrador de un gran centro médico al azar selecciona los registros médicos de 30 pacientes de Alzheimer ya fallecidos, de la base de datos del centro médico y anota\n",
    "la duración promedio. Encuentre las probabilidades aproximadas para estos eventos:\n",
    "\n",
    "1. La duración promedio es menor a 7 años.\n",
    "2. La duración promedio excede de 7 años.\n",
    "3. La duración promedio está a no más de 1 año de la media poblacional $\\mu=8$.\n",
    "\n",
    "**Respuestas.** 0.0853, 0.9147, 0.8294"
   ]
  },
  {
   "cell_type": "markdown",
   "id": "d89e219c",
   "metadata": {},
   "source": [
    "**2.** Para evitar dificultades con la Comisión Federal de Comercio de EE.UU. o con oficinas locales y estatales de protección al consumidor, un embotellador de refrescos debe estar razonablemente seguro de que sus botellas de 12 onzas en realidad contengan 12 onzas de líquido. Para determinar si una máquina está funcionando de manera satisfactoria, un embotellador muestrea al azar 10 botellas por hora y mide la cantidad de líquido de cada botella. La media $\\overline{x}$ de las 10 medidas llenas se usa para determinar si se reajusta la cantidad de líquido introducido en la botella por la máquina llenadora. Si los registros\n",
    "muestran que la cantidad de líquido por botella está normalmente distribuida, con una desviación estándar de .2 onzas y si la máquina embotelladora está ajustada para producir un llenado medio por botella de 12.1 onzas, ¿cuál es la probabilidad aproximada de que la media muestral $\\overline{x}$ de las 10 botellas sea menor a 12 onzas?\n",
    "\n",
    "**Respuesta.** 0.056"
   ]
  },
  {
   "cell_type": "markdown",
   "id": "0c722b71",
   "metadata": {},
   "source": [
    "**3.** Muestras aleatorias de tamaño $n$ se seleccionaron de poblaciones con las medias y varianzas dadas aquí. Encuentre la media y desviación estándar de la distribución muestral de la media muestral en cada caso:\n",
    "\n",
    "a. $n=36$, $\\mu=10$ y $\\sigma^2=9$\n",
    "\n",
    "b. $n=100$, $\\mu=5$ y $\\sigma^2=4$\n",
    "\n",
    "c. $n=8$, $\\mu=120$ y $\\sigma^2=1$\n",
    "\n",
    "Si las poblaciones muestreadas son normales, ¿cuál es la distribución muestral de $\\overline{X}$ para los tres incisos anteriores?\n",
    "\n",
    "Si las poblaciones muestreadas no son normales, ¿qué se puede decir de la distribución muestral de $\\overline{X}$ para los tres incisos anteriores?"
   ]
  },
  {
   "cell_type": "markdown",
   "id": "3efc8f7a",
   "metadata": {},
   "source": [
    "**4.** Una muestra aleatoria de $n$ observaciones se selecciona de una población con desviación estándar $\\sigma=1$. Calcule el error estándar de la media (SE) para estos valores de $n$:\n",
    "\n",
    "a. $n=1$\n",
    "\n",
    "b. $n=2$\n",
    "\n",
    "c. $n=4$\n",
    "\n",
    "d. $n=9$\n",
    "\n",
    "e. $n=16$\n",
    "\n",
    "f. $n=25$\n",
    "\n",
    "g. $n=100$"
   ]
  },
  {
   "cell_type": "markdown",
   "id": "62ffc120",
   "metadata": {},
   "source": [
    "**5.** Suponga que se selecciona una muestra aleatoria de $n=25$ observaciones de entre una población que está distribuida normalmente, con media igual a 106 y desviación estándar igual a 12.\n",
    "\n",
    "a. ¿Cuál es la media y la desviación de $\\overline{X}$?\n",
    "\n",
    "b. Encuentra la probabilidad de que $\\overline{X}$ exceda de 110.\n",
    "\n",
    "c. Encuentra la probabilidad de que $\\overline{X}$ se desvíe de la media poblacional en no mas de 4."
   ]
  },
  {
   "cell_type": "markdown",
   "id": "e31e8038",
   "metadata": {},
   "source": [
    "**6.** Suponga que el profesorado de una universidad, con el rango de profesor, ganan un promedio de \\\\$64,571 por año con una desviación estándar de \\\\$4,000. En un intento por verificar este nivel de salario, se seleccionó una muestra de 60 profesores de entre una base de datos del personal para todas las instituciones en Estados Unidos.\n",
    "\n",
    "a. Describa la distribución muestral de la media muestral.\n",
    "\n",
    "b. Calcule la probabilidad de que la media muestral sea mayor a \\\\$66,000.\n",
    "\n",
    "c. Si su muestra aleatoria en realidad produjo una media muestral de $66,000, ¿consideraría usted que esto es poco común? ¿Qué conclusión podría sacar?"
   ]
  },
  {
   "cell_type": "markdown",
   "id": "8852d376",
   "metadata": {},
   "source": [
    "**7.** El total de ventas diarias en la sección de bocadillos (llamados delicatessen o deli), es la suma de las ventas generadas por un número fijo de clientes que hacen compras en un día determinado.\n",
    "\n",
    "Para este mercado particular, el promedio de venta por cliente en la sección delicatessen es \\\\$8.50 con una desviación de \\\\$2.50. Si 30 clientes hacen compras de deli en un día determinado, ¿cuál es la distribución aproximada de la venta total durante el día?"
   ]
  },
  {
   "cell_type": "markdown",
   "id": "89467f97",
   "metadata": {},
   "source": [
    "**8.** Una empresa de material eléctrico fabrica bombillas que tienen una duración que se distribuye en forma normal, con media de 800 horas y desviación estándar de 40 horas. Calcule la probabilidad de que una muestra aleatoria de 16 bombillas tenga una vida promedio de menos de 775 horas.\n"
   ]
  },
  {
   "cell_type": "markdown",
   "id": "c08ca9c8",
   "metadata": {},
   "source": [
    "**9.** Un importante proceso de fabricación produce partes de componentes cilíndricos para la industria automotriz. Es importante que el proceso produzca partes que tengan un diámetro medio de 5.0 milímetros. El ingeniero implicado asume que la media de la población es de 5.0 milímetros. Se lleva a cabo un experimento donde se seleccionan al azar 100 partes elaboradas por el proceso y se mide el diámetro de cada una de ellas. Se sabe que la desviación estándar de la población es $\\sigma = 0.1$ milímetros. El experimento indica un diámetro promedio muestral de $\\overline{x} = 5.027$ milímetros. ¿Esta\n",
    "información de la muestra parece apoyar o refutar la suposición del ingeniero?"
   ]
  }
 ],
 "metadata": {
  "kernelspec": {
   "display_name": "R",
   "language": "R",
   "name": "ir"
  },
  "language_info": {
   "codemirror_mode": "r",
   "file_extension": ".r",
   "mimetype": "text/x-r-source",
   "name": "R",
   "pygments_lexer": "r",
   "version": "3.6.1"
  }
 },
 "nbformat": 4,
 "nbformat_minor": 5
}
